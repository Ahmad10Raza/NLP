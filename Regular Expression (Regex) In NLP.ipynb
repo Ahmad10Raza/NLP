{
 "cells": [
  {
   "cell_type": "markdown",
   "metadata": {},
   "source": [
    "# **Regular Expression: Regex**"
   ]
  },
  {
   "cell_type": "markdown",
   "metadata": {},
   "source": [
    "# What is Regular Expression?\n",
    "\n",
    "A regular expression, often abbreviated as \"regex\" or \"regexp,\" is a powerful tool for matching and manipulating text based on patterns. It is a sequence of characters that defines a search pattern. Regular expressions are commonly used for tasks such as searching, matching, and manipulating text or strings. They provide a flexible and concise way to specify patterns in text data. Here are some key aspects of regular expressions:\n",
    "\n",
    "1. **Pattern Matching:** Regular expressions are primarily used for matching text based on a specified pattern. For example, you can use a regular expression to find all email addresses in a document or to search for words that follow a particular format.\n",
    "\n",
    "2. **Wildcards and Metacharacters:** Regular expressions use special characters called metacharacters to represent patterns. For example, the dot (.) can match any character, and the asterisk (*) can represent zero or more occurrences of the preceding character or pattern.\n",
    "\n",
    "3. **Character Classes:** Regular expressions allow you to specify character classes, such as [0-9] to match any digit or [A-Za-z] to match any uppercase or lowercase letter.\n",
    "\n",
    "4. **Quantifiers:** Quantifiers specify how many times a character or group of characters should be repeated. For example, \"x{2}\" matches \"xx,\" and \"x{2,4}\" matches \"xx,\" \"xxx,\" or \"xxxx.\"\n",
    "\n",
    "5. **Anchors:** Anchors are used to specify the position within a string where a match should occur. The caret (^) matches the start of a line, and the dollar sign ($) matches the end of a line.\n",
    "\n",
    "6. **Alternation:** The pipe symbol (|) is used to specify alternatives. For example, \"cat|dog\" matches either \"cat\" or \"dog.\"\n",
    "\n",
    "7. **Groups and Capturing:** Parentheses () are used to group characters together and capture matched text. Captured text can be referenced or extracted.\n",
    "\n",
    "8. **Escape Sequences:** Some characters, such as the dot (.) and asterisk (*), have special meanings in regular expressions. To match them literally, you need to escape them using a backslash (\\).\n",
    "\n",
    "Regular expressions are widely used in various programming languages, text editors, and tools for tasks like searching and replacing text, data validation, and parsing. Learning to use regular expressions effectively can be a valuable skill for text processing and pattern matching in programming and data analysis."
   ]
  },
  {
   "cell_type": "markdown",
   "metadata": {},
   "source": [
    "# Patterns and Character In Regex.\n",
    "\n",
    "In regular expressions (regex or regexp), patterns are defined using a combination of ordinary characters, metacharacters, and character classes. These patterns are used to match and manipulate text based on specific criteria. Here are some common patterns and characters used in regex:\n",
    "\n",
    "1. **Literal Characters:** Literal characters in a regex pattern match themselves. For example, the regex pattern \"cat\" matches the word \"cat\" in the text.\n",
    "\n",
    "2. **Metacharacters:** Metacharacters are special characters in regex patterns that have meanings beyond their literal characters. Some common metacharacters include:\n",
    "   - `.` (Dot): Matches any single character except a newline.\n",
    "   - `*` (Asterisk): Matches zero or more occurrences of the preceding character or pattern.\n",
    "   - `+` (Plus): Matches one or more occurrences of the preceding character or pattern.\n",
    "   - `?` (Question Mark): Matches zero or one occurrence of the preceding character or pattern.\n",
    "   - `|` (Pipe): Specifies alternatives, allowing you to match one of several patterns.\n",
    "   - `()` (Parentheses): Groups characters or patterns together and creates capturing groups.\n",
    "   - `[]` (Square Brackets): Defines character classes, allowing you to match any character within the brackets.\n",
    "   - `{}` (Curly Braces): Specifies the number of occurrences of the preceding character or pattern.\n",
    "\n",
    "3. **Character Classes:** Character classes allow you to specify a set of characters to match. Common character classes include:\n",
    "   - `[0-9]`: Matches any digit.\n",
    "   - `[A-Za-z]`: Matches any uppercase or lowercase letter.\n",
    "   - `[aeiou]`: Matches any of the specified vowels.\n",
    "   - `[^0-9]`: Matches any character that is not a digit.\n",
    "\n",
    "4. **Anchors:** Anchors are used to specify the position within a string where a match should occur. Common anchors include:\n",
    "   - `^` (Caret): Matches the start of a line or string.\n",
    "   - `$` (Dollar Sign): Matches the end of a line or string.\n",
    "\n",
    "5. **Escape Sequences:** Some characters have special meanings in regex and need to be escaped to match them literally. For example, to match a literal dot (.), you use `\\.`.\n",
    "\n",
    "6. **Quantifiers:** Quantifiers specify how many times a character or pattern should be repeated. Common quantifiers include:\n",
    "   - `{n}`: Matches exactly n occurrences.\n",
    "   - `{n,}`: Matches n or more occurrences.\n",
    "   - `{n,m}`: Matches between n and m occurrences.\n",
    "\n",
    "Here are some examples of regex patterns:\n",
    "- `\\d{3}`: Matches exactly three digits.\n",
    "- `[A-Za-z]+`: Matches one or more uppercase or lowercase letters.\n",
    "- `^The`: Matches lines or strings that start with \"The.\"\n",
    "- `\\d{4}-\\d{2}-\\d{2}`: Matches date patterns like \"2023-10-16.\"\n",
    "\n",
    "Regular expressions provide a powerful and flexible way to define and search for patterns in text. They are widely used in programming, text processing, and data validation tasks."
   ]
  },
  {
   "cell_type": "markdown",
   "metadata": {},
   "source": [
    "# Metacharacters and Escaping In Regex.\n",
    "\n"
   ]
  }
 ],
 "metadata": {
  "language_info": {
   "name": "python"
  }
 },
 "nbformat": 4,
 "nbformat_minor": 2
}
