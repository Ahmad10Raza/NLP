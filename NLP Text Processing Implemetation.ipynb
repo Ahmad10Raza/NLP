{
 "cells": [
  {
   "cell_type": "markdown",
   "metadata": {},
   "source": [
    "# **NLP Text Processing**"
   ]
  },
  {
   "cell_type": "markdown",
   "metadata": {},
   "source": [
    "# What is NLP Text Processing\n",
    "\n",
    "Text processing in the context of NLP (Natural Language Processing) refers to a set of techniques and operations applied to textual data to make it more accessible and useful for various NLP tasks. It involves the manipulation, analysis, and transformation of text to extract valuable information or gain insights. Text processing is a crucial preliminary step in many NLP applications. Here are some common text processing tasks:\n",
    "\n",
    "1. **Tokenization:** Tokenization involves splitting a text into individual units, such as words or sentences. These units are known as tokens. Tokenization is a fundamental step in NLP, as it breaks down text into manageable components.\n",
    "\n",
    "2. **Stemming and Lemmatization:** Stemming and lemmatization are techniques to reduce words to their root or base forms. Stemming removes prefixes and suffixes, while lemmatization considers the word's context and grammar to find its base form.\n",
    "\n",
    "3. **Stop Word Removal:** Stop words are common words like \"the,\" \"and,\" \"in,\" which may not provide valuable information in certain NLP tasks. Removing stop words can reduce noise in the text.\n",
    "\n",
    "4. **Normalization:** Text normalization involves standardizing text, making it consistent by converting all text to lowercase, removing special characters, and handling abbreviations or acronyms.\n",
    "\n",
    "5. **Text Cleaning:** Text cleaning aims to remove noise or irrelevant information from text. This may include removing HTML tags, punctuation, or unwanted characters.\n",
    "\n",
    "6. **Sentence Segmentation:** Sentence segmentation involves identifying sentence boundaries in a paragraph of text. This is important for tasks like machine translation or summarization.\n",
    "\n",
    "7. **Text Encoding:** Text encoding converts text into a numerical format that machine learning models can work with. This is typically done using techniques like one-hot encoding or word embeddings (e.g., Word2Vec or GloVe).\n",
    "\n",
    "8. **Part-of-Speech Tagging:** This task involves labeling words in a sentence with their part of speech (e.g., noun, verb, adjective). It's useful for understanding the grammatical structure of text.\n",
    "\n",
    "9. **Named Entity Recognition (NER):** NER identifies and classifies entities in text, such as names of people, organizations, locations, dates, and more.\n",
    "\n",
    "10. **Sentiment Analysis:** Sentiment analysis determines the sentiment or emotion expressed in a piece of text, typically classifying it as positive, negative, or neutral.\n",
    "\n",
    "11. **Text Summarization:** Text summarization techniques aim to create a concise summary of a longer text while retaining its essential information.\n",
    "\n",
    "12. **Topic Modeling:** Topic modeling algorithms can identify topics or themes within a collection of documents.\n",
    "\n",
    "13. **Dependency Parsing:** Dependency parsing analyzes the grammatical structure of a sentence to identify the relationships between words.\n",
    "\n",
    "14. **Text Translation:** Machine translation systems use NLP techniques to translate text from one language to another.\n",
    "\n",
    "Text processing plays a crucial role in NLP because it prepares raw textual data for subsequent analysis, modeling, and understanding. The specific techniques used depend on the NLP task at hand and the nature of the text data being processed."
   ]
  },
  {
   "cell_type": "markdown",
   "metadata": {},
   "source": [
    "# NLP V/s TOA V/s CD\n",
    "\n",
    "Natural Language Processing (NLP), theory of automata, and compiler design are related in some ways, as they all deal with aspects of language, but they are distinct fields with different focuses. Here's how they relate:\n",
    "\n",
    "1. **Theory of Automata:**\n",
    "   - The theory of automata, particularly finite automata and regular languages, is a fundamental concept in computer science and forms the theoretical foundation for many aspects of NLP.\n",
    "   - Regular expressions and finite automata are used in NLP for tasks like pattern matching, tokenization, and text processing.\n",
    "   - Automata theory can be applied to language recognition and parsing in NLP, such as in the development of regular expression-based text processing tools.\n",
    "\n",
    "2. **Compiler Design:**\n",
    "   - Compiler design is a field of computer science that deals with the development of compilers, which are programs that translate source code into machine code or another language.\n",
    "   - While compiler design and NLP are distinct fields, they can intersect when dealing with domain-specific languages or domain-specific compilers. In some cases, NLP techniques might be used to assist in developing compilers for languages that have natural language-like features.\n",
    "   - Natural language might also be used in error messages or documentation produced by compilers.\n",
    "\n",
    "3. **NLP:**\n",
    "   - NLP is a specialized field within artificial intelligence and linguistics that focuses on the interaction between computers and human language.\n",
    "   - NLP involves a wide range of tasks, including text processing, sentiment analysis, machine translation, speech recognition, and more.\n",
    "   - While NLP may use concepts from automata theory and compiler design, its primary focus is on understanding and generating human language.\n",
    "\n",
    "In summary, while there are connections between NLP, automata theory, and compiler design, they are separate fields with distinct objectives. NLP primarily deals with human language understanding and generation, while automata theory and compiler design are more foundational to computer science and programming language translation. Concepts from these fields can be applied in NLP when appropriate, but they are not the central focus of the discipline."
   ]
  },
  {
   "cell_type": "markdown",
   "metadata": {},
   "source": [
    "# Implementation"
   ]
  },
  {
   "cell_type": "code",
   "execution_count": 1,
   "metadata": {},
   "outputs": [],
   "source": [
    "import re # regular expression library for string matching and manipulation\n",
    "import nltk # natural language toolkit\n",
    "from nltk.corpus import stopwords # stopwords corpus\n",
    "from nltk.stem import PorterStemmer # stemming library\n",
    "from nltk.stem import WordNetLemmatizer # lemmatization library\n",
    "from nltk.tokenize import word_tokenize # word tokenizer library for tokenization\n",
    "from nltk.tokenize import sent_tokenize # sentence tokenizer library for tokenization"
   ]
  },
  {
   "cell_type": "markdown",
   "metadata": {},
   "source": [
    "### Sample Text"
   ]
  },
  {
   "cell_type": "code",
   "execution_count": 2,
   "metadata": {},
   "outputs": [],
   "source": [
    "sample_text=\"\"\"\n",
    "Nikola Tesla: A Pioneer in Electrical Engineering\n",
    "\n",
    "Nikola Tesla, born on July 10, 1856, in Smiljan, Croatia (then part of the Austro-Hungarian Empire), was a visionary inventor and electrical engineer who made groundbreaking contributions to the field of electrical engineering. His life and work are a testament to innovation and scientific curiosity.\n",
    "\n",
    "Tesla's Early Years:\n",
    "Tesla displayed an early aptitude for mathematics and mechanics, and he attended the Technical University of Graz and the University of Prague before finding work in the emerging electrical industry. He moved to the United States in 1884, where he began working with the legendary inventor Thomas Edison.\n",
    "\n",
    "AC vs. DC:\n",
    "One of the most significant chapters in Tesla's life revolved around the \"War of Currents.\" He championed alternating current (AC) as a more efficient and safer method for electricity transmission than Edison's direct current (DC). This battle between AC and DC technologies ultimately led to the widespread adoption of AC as the standard for electrical power distribution.\n",
    "\n",
    "Inventions and Innovations:\n",
    "Tesla was a prolific inventor and held numerous patents. His inventions included the Tesla coil, a device capable of generating high-voltage, low-current electricity; the alternating current induction motor; and the development of the polyphase system for electricity distribution.\n",
    "\n",
    "Wireless Power Transmission:\n",
    "Tesla was also fascinated by the idea of wireless power transmission. He proposed the construction of the Wardenclyffe Tower, a wireless transmission facility, to transmit electricity wirelessly across vast distances. Although this project was never completed, it laid the groundwork for future developments in wireless technology.\n",
    "\n",
    "Contributions to Science:\n",
    "Tesla's work extended beyond electrical engineering. He made contributions to fields such as wireless communication, radio waves, and X-rays. His \"Tesla's oscillator\" was an early example of radio wave generation, which later played a crucial role in modern communication.\n",
    "\n",
    "Challenges and Later Life:\n",
    "Despite his many achievements, Tesla faced financial difficulties and isolation in his later years. He continued to work on inventions and ideas but struggled to bring them to fruition. He passed away on January 7, 1943, in New York City.\n",
    "\n",
    "Legacy:\n",
    "Nikola Tesla's legacy is profound, and his ideas continue to influence the fields of electrical engineering, technology, and science. He is celebrated for his contributions to the development of the modern electrical power system and his pioneering work in areas that laid the foundation for future innovations.\n",
    "\n",
    "In conclusion, Nikola Tesla's story is one of scientific brilliance and innovation, and his work has left an enduring impact on the world of technology and engineering.\n",
    "\n",
    "\n",
    "\"\"\""
   ]
  },
  {
   "cell_type": "markdown",
   "metadata": {},
   "source": [
    "### 1. Sentence Tokenization"
   ]
  },
  {
   "cell_type": "code",
   "execution_count": 3,
   "metadata": {},
   "outputs": [
    {
     "name": "stderr",
     "output_type": "stream",
     "text": [
      "[nltk_data] Downloading package punkt to /home/blackheart/nltk_data...\n",
      "[nltk_data]   Package punkt is already up-to-date!\n",
      "[nltk_data] Downloading package stopwords to\n",
      "[nltk_data]     /home/blackheart/nltk_data...\n",
      "[nltk_data]   Package stopwords is already up-to-date!\n",
      "[nltk_data] Downloading package wordnet to\n",
      "[nltk_data]     /home/blackheart/nltk_data...\n",
      "[nltk_data]   Package wordnet is already up-to-date!\n"
     ]
    },
    {
     "data": {
      "text/plain": [
       "True"
      ]
     },
     "execution_count": 3,
     "metadata": {},
     "output_type": "execute_result"
    }
   ],
   "source": [
    "\n",
    "nltk.download('punkt') # download the punkt tokenizer models for sentence tokenization\n",
    "nltk.download('stopwords') # download the stopwords corpus for stopword removal\n",
    "nltk.download('wordnet') # download the wordnet corpus for lemmatization "
   ]
  },
  {
   "cell_type": "code",
   "execution_count": 4,
   "metadata": {},
   "outputs": [],
   "source": [
    "sentences = sent_tokenize(sample_text)\n",
    "words = [word_tokenize(sentence) for sentence in sentences]"
   ]
  },
  {
   "cell_type": "markdown",
   "metadata": {},
   "source": [
    "### Lower case and removing special character"
   ]
  },
  {
   "cell_type": "code",
   "execution_count": 5,
   "metadata": {},
   "outputs": [],
   "source": [
    "\n",
    "clean_word=[[re.sub(r'[^a-zA-Z0-9]','', word.lower( )) for word in word_tokenize(sentence) if word not in stopwords.words('english')] for sentence in sent_tokenize(sample_text)]\n"
   ]
  },
  {
   "cell_type": "code",
   "execution_count": 6,
   "metadata": {},
   "outputs": [
    {
     "name": "stdout",
     "output_type": "stream",
     "text": [
      "[['nikola', 'tesla', '', 'a', 'pioneer', 'electrical', 'engineering', 'nikola', 'tesla', '', 'born', 'july', '10', '', '1856', '', 'smiljan', '', 'croatia', '', 'part', 'austrohungarian', 'empire', '', '', 'visionary', 'inventor', 'electrical', 'engineer', 'made', 'groundbreaking', 'contributions', 'field', 'electrical', 'engineering', ''], ['his', 'life', 'work', 'testament', 'innovation', 'scientific', 'curiosity', ''], ['tesla', 's', 'early', 'years', '', 'tesla', 'displayed', 'early', 'aptitude', 'mathematics', 'mechanics', '', 'attended', 'technical', 'university', 'graz', 'university', 'prague', 'finding', 'work', 'emerging', 'electrical', 'industry', ''], ['he', 'moved', 'united', 'states', '1884', '', 'began', 'working', 'legendary', 'inventor', 'thomas', 'edison', ''], ['ac', 'vs', 'dc', '', 'one', 'significant', 'chapters', 'tesla', 's', 'life', 'revolved', 'around', '', 'war', 'currents', '', ''], ['he', 'championed', 'alternating', 'current', '', 'ac', '', 'efficient', 'safer', 'method', 'electricity', 'transmission', 'edison', 's', 'direct', 'current', '', 'dc', '', ''], ['this', 'battle', 'ac', 'dc', 'technologies', 'ultimately', 'led', 'widespread', 'adoption', 'ac', 'standard', 'electrical', 'power', 'distribution', ''], ['inventions', 'innovations', '', 'tesla', 'prolific', 'inventor', 'held', 'numerous', 'patents', ''], ['his', 'inventions', 'included', 'tesla', 'coil', '', 'device', 'capable', 'generating', 'highvoltage', '', 'lowcurrent', 'electricity', '', 'alternating', 'current', 'induction', 'motor', '', 'development', 'polyphase', 'system', 'electricity', 'distribution', ''], ['wireless', 'power', 'transmission', '', 'tesla', 'also', 'fascinated', 'idea', 'wireless', 'power', 'transmission', ''], ['he', 'proposed', 'construction', 'wardenclyffe', 'tower', '', 'wireless', 'transmission', 'facility', '', 'transmit', 'electricity', 'wirelessly', 'across', 'vast', 'distances', ''], ['although', 'project', 'never', 'completed', '', 'laid', 'groundwork', 'future', 'developments', 'wireless', 'technology', ''], ['contributions', 'science', '', 'tesla', 's', 'work', 'extended', 'beyond', 'electrical', 'engineering', ''], ['he', 'made', 'contributions', 'fields', 'wireless', 'communication', '', 'radio', 'waves', '', 'xrays', ''], ['his', '', 'tesla', 's', 'oscillator', '', 'early', 'example', 'radio', 'wave', 'generation', '', 'later', 'played', 'crucial', 'role', 'modern', 'communication', ''], ['challenges', 'later', 'life', '', 'despite', 'many', 'achievements', '', 'tesla', 'faced', 'financial', 'difficulties', 'isolation', 'later', 'years', ''], ['he', 'continued', 'work', 'inventions', 'ideas', 'struggled', 'bring', 'fruition', ''], ['he', 'passed', 'away', 'january', '7', '', '1943', '', 'new', 'york', 'city', ''], ['legacy', '', 'nikola', 'tesla', 's', 'legacy', 'profound', '', 'ideas', 'continue', 'influence', 'fields', 'electrical', 'engineering', '', 'technology', '', 'science', ''], ['he', 'celebrated', 'contributions', 'development', 'modern', 'electrical', 'power', 'system', 'pioneering', 'work', 'areas', 'laid', 'foundation', 'future', 'innovations', ''], ['in', 'conclusion', '', 'nikola', 'tesla', 's', 'story', 'one', 'scientific', 'brilliance', 'innovation', '', 'work', 'left', 'enduring', 'impact', 'world', 'technology', 'engineering', '']]\n"
     ]
    }
   ],
   "source": [
    "print(clean_word)"
   ]
  },
  {
   "cell_type": "code",
   "execution_count": 7,
   "metadata": {},
   "outputs": [],
   "source": [
    "# Removing Stopwords\n",
    "\n",
    "stop_words = set(stopwords.words('english'))\n",
    "filtered_words = [[word for word in sentence if word not in stop_words] for sentence in clean_word]"
   ]
  },
  {
   "cell_type": "markdown",
   "metadata": {},
   "source": [
    "### Stemming and Lemmatization"
   ]
  },
  {
   "cell_type": "code",
   "execution_count": 8,
   "metadata": {},
   "outputs": [],
   "source": [
    "stemmer = PorterStemmer()\n",
    "lemmatizer = WordNetLemmatizer()\n",
    "\n",
    "stemmed_words = [[stemmer.stem(word) for word in sentence] for sentence in filtered_words]\n",
    "lemmatized_words = [[lemmatizer.lemmatize(word) for word in sentence] for sentence in filtered_words]"
   ]
  },
  {
   "cell_type": "markdown",
   "metadata": {},
   "source": [
    "### Printing Processed Sentenses"
   ]
  },
  {
   "cell_type": "code",
   "execution_count": 9,
   "metadata": {},
   "outputs": [
    {
     "name": "stdout",
     "output_type": "stream",
     "text": [
      "Original Sentences:\n",
      "\n",
      "Nikola Tesla: A Pioneer in Electrical Engineering\n",
      "\n",
      "Nikola Tesla, born on July 10, 1856, in Smiljan, Croatia (then part of the Austro-Hungarian Empire), was a visionary inventor and electrical engineer who made groundbreaking contributions to the field of electrical engineering.\n",
      "His life and work are a testament to innovation and scientific curiosity.\n",
      "Tesla's Early Years:\n",
      "Tesla displayed an early aptitude for mathematics and mechanics, and he attended the Technical University of Graz and the University of Prague before finding work in the emerging electrical industry.\n",
      "He moved to the United States in 1884, where he began working with the legendary inventor Thomas Edison.\n",
      "AC vs. DC:\n",
      "One of the most significant chapters in Tesla's life revolved around the \"War of Currents.\"\n",
      "He championed alternating current (AC) as a more efficient and safer method for electricity transmission than Edison's direct current (DC).\n",
      "This battle between AC and DC technologies ultimately led to the widespread adoption of AC as the standard for electrical power distribution.\n",
      "Inventions and Innovations:\n",
      "Tesla was a prolific inventor and held numerous patents.\n",
      "His inventions included the Tesla coil, a device capable of generating high-voltage, low-current electricity; the alternating current induction motor; and the development of the polyphase system for electricity distribution.\n",
      "Wireless Power Transmission:\n",
      "Tesla was also fascinated by the idea of wireless power transmission.\n",
      "He proposed the construction of the Wardenclyffe Tower, a wireless transmission facility, to transmit electricity wirelessly across vast distances.\n",
      "Although this project was never completed, it laid the groundwork for future developments in wireless technology.\n",
      "Contributions to Science:\n",
      "Tesla's work extended beyond electrical engineering.\n",
      "He made contributions to fields such as wireless communication, radio waves, and X-rays.\n",
      "His \"Tesla's oscillator\" was an early example of radio wave generation, which later played a crucial role in modern communication.\n",
      "Challenges and Later Life:\n",
      "Despite his many achievements, Tesla faced financial difficulties and isolation in his later years.\n",
      "He continued to work on inventions and ideas but struggled to bring them to fruition.\n",
      "He passed away on January 7, 1943, in New York City.\n",
      "Legacy:\n",
      "Nikola Tesla's legacy is profound, and his ideas continue to influence the fields of electrical engineering, technology, and science.\n",
      "He is celebrated for his contributions to the development of the modern electrical power system and his pioneering work in areas that laid the foundation for future innovations.\n",
      "In conclusion, Nikola Tesla's story is one of scientific brilliance and innovation, and his work has left an enduring impact on the world of technology and engineering.\n",
      "\n",
      "Processed Sentences (Lemmatized):\n",
      "nikola tesla  pioneer electrical engineering nikola tesla  born july 10  1856  smiljan  croatia  part austrohungarian empire   visionary inventor electrical engineer made groundbreaking contribution field electrical engineering \n",
      "life work testament innovation scientific curiosity \n",
      "tesla early year  tesla displayed early aptitude mathematics mechanic  attended technical university graz university prague finding work emerging electrical industry \n",
      "moved united state 1884  began working legendary inventor thomas edison \n",
      "ac v dc  one significant chapter tesla life revolved around  war current  \n",
      "championed alternating current  ac  efficient safer method electricity transmission edison direct current  dc  \n",
      "battle ac dc technology ultimately led widespread adoption ac standard electrical power distribution \n",
      "invention innovation  tesla prolific inventor held numerous patent \n",
      "invention included tesla coil  device capable generating highvoltage  lowcurrent electricity  alternating current induction motor  development polyphase system electricity distribution \n",
      "wireless power transmission  tesla also fascinated idea wireless power transmission \n",
      "proposed construction wardenclyffe tower  wireless transmission facility  transmit electricity wirelessly across vast distance \n",
      "although project never completed  laid groundwork future development wireless technology \n",
      "contribution science  tesla work extended beyond electrical engineering \n",
      "made contribution field wireless communication  radio wave  xrays \n",
      " tesla oscillator  early example radio wave generation  later played crucial role modern communication \n",
      "challenge later life  despite many achievement  tesla faced financial difficulty isolation later year \n",
      "continued work invention idea struggled bring fruition \n",
      "passed away january 7  1943  new york city \n",
      "legacy  nikola tesla legacy profound  idea continue influence field electrical engineering  technology  science \n",
      "celebrated contribution development modern electrical power system pioneering work area laid foundation future innovation \n",
      "conclusion  nikola tesla story one scientific brilliance innovation  work left enduring impact world technology engineering \n"
     ]
    }
   ],
   "source": [
    "print(\"Original Sentences:\")\n",
    "for sentence in sentences:\n",
    "    print(sentence)\n",
    "\n",
    "print(\"\\nProcessed Sentences (Lemmatized):\")\n",
    "for sentence in lemmatized_words:\n",
    "    print(' '.join(sentence))"
   ]
  },
  {
   "cell_type": "markdown",
   "metadata": {},
   "source": [
    "# **Thank You!**"
   ]
  }
 ],
 "metadata": {
  "kernelspec": {
   "display_name": "Python 3",
   "language": "python",
   "name": "python3"
  },
  "language_info": {
   "codemirror_mode": {
    "name": "ipython",
    "version": 3
   },
   "file_extension": ".py",
   "mimetype": "text/x-python",
   "name": "python",
   "nbconvert_exporter": "python",
   "pygments_lexer": "ipython3",
   "version": "3.10.12"
  }
 },
 "nbformat": 4,
 "nbformat_minor": 2
}
